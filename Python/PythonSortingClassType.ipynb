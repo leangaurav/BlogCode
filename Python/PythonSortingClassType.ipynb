{
 "cells": [
  {
   "cell_type": "code",
   "execution_count": 6,
   "metadata": {},
   "outputs": [
    {
     "name": "stdout",
     "output_type": "stream",
     "text": [
      "[10, 20, 30, 40, 60]\n",
      "[60, 40, 30, 20, 10]\n"
     ]
    }
   ],
   "source": [
    "a = [10,40,60,20,30]\n",
    "a.sort()\n",
    "print(a)\n",
    "a.sort(reverse = True)\n",
    "print(a)"
   ]
  },
  {
   "cell_type": "code",
   "execution_count": 12,
   "metadata": {
    "scrolled": true
   },
   "outputs": [
    {
     "name": "stdout",
     "output_type": "stream",
     "text": [
      "['AB', 'Ab', 'ab', 'abc', 'bc']\n"
     ]
    }
   ],
   "source": [
    "a = ['ab', 'abc', 'AB', 'bc', 'Ab']\n",
    "a.sort()\n",
    "print(a)"
   ]
  },
  {
   "cell_type": "code",
   "execution_count": 5,
   "metadata": {},
   "outputs": [
    {
     "name": "stdout",
     "output_type": "stream",
     "text": [
      "AB\n",
      "Ab\n",
      "ab\n",
      "abc\n",
      "bc\n",
      "['AB', 'Ab', 'ab', 'abc', 'bc']\n"
     ]
    }
   ],
   "source": [
    "# sorted\n",
    "a = ('ab', 'abc', 'AB', 'bc', 'Ab')\n",
    "for data in sorted(a):\n",
    "    print(data)\n",
    "\n",
    "print(sorted(a))"
   ]
  },
  {
   "cell_type": "code",
   "execution_count": null,
   "metadata": {},
   "outputs": [],
   "source": []
  },
  {
   "cell_type": "markdown",
   "metadata": {},
   "source": [
    "## Sorting Tuples"
   ]
  },
  {
   "cell_type": "code",
   "execution_count": 17,
   "metadata": {},
   "outputs": [],
   "source": [
    "a = [('krishna' , 35, 55000), \n",
    "     ('stephe'  , 16, 61000), \n",
    "     ('harshita', 26, 57000), \n",
    "     ('gaurav'  , 18, 78000)]"
   ]
  },
  {
   "cell_type": "code",
   "execution_count": 23,
   "metadata": {},
   "outputs": [
    {
     "name": "stdout",
     "output_type": "stream",
     "text": [
      "('gaurav', 18, 78000)\n",
      "('harshita', 26, 57000)\n",
      "('krishna', 35, 55000)\n",
      "('stephe', 16, 61000)\n"
     ]
    }
   ],
   "source": [
    "a = [('krishna' , 35, 55000), \n",
    "     ('stephe'  , 16, 61000), \n",
    "     ('harshita', 26, 57000), \n",
    "     ('gaurav'  , 18, 78000)]\n",
    "a.sort()\n",
    "for data in a:\n",
    "    print(data)"
   ]
  },
  {
   "cell_type": "code",
   "execution_count": 24,
   "metadata": {},
   "outputs": [
    {
     "name": "stdout",
     "output_type": "stream",
     "text": [
      "('stephe', 16, 61000)\n",
      "('gaurav', 18, 78000)\n",
      "('harshita', 26, 57000)\n",
      "('krishna', 35, 55000)\n"
     ]
    }
   ],
   "source": [
    "a = [('krishna' , 35, 55000), \n",
    "     ('stephe'  , 16, 61000), \n",
    "     ('harshita', 26, 57000), \n",
    "     ('gaurav'  , 18, 78000)]\n",
    "\n",
    "a.sort(key = lambda x: x[1])\n",
    "for data in a:\n",
    "    print(data)"
   ]
  },
  {
   "cell_type": "code",
   "execution_count": 47,
   "metadata": {},
   "outputs": [
    {
     "name": "stdout",
     "output_type": "stream",
     "text": [
      "(16, ('stephe', 16, 61000))\n",
      "(18, ('gaurav', 18, 78000))\n",
      "(26, ('harshita', 26, 57000))\n",
      "(35, ('krishna', 35, 55000))\n",
      "('stephe', 16, 61000)\n",
      "('gaurav', 18, 78000)\n",
      "('harshita', 26, 57000)\n",
      "('krishna', 35, 55000)\n"
     ]
    }
   ],
   "source": [
    "# Decorate-Sort-Undecorate\n",
    "a = [('krishna' , 35, 55000), \n",
    "     ('stephe'  , 16, 61000), \n",
    "     ('harshita', 26, 57000), \n",
    "     ('gaurav'  , 18, 78000)]\n",
    "\n",
    "# since sorting in tuples by default happens on first element and so on\n",
    "# create a new mapping and sort it\n",
    "temp = [ (data[1], data) for data in a ]\n",
    "temp.sort()\n",
    "for data in temp:\n",
    "    print(data)\n",
    "\n",
    "# get sorted data from the temp copy\n",
    "a = [ data[1] for data in temp]\n",
    "for data in a:\n",
    "    print(data)"
   ]
  },
  {
   "cell_type": "code",
   "execution_count": null,
   "metadata": {},
   "outputs": [],
   "source": []
  },
  {
   "cell_type": "markdown",
   "metadata": {},
   "source": [
    "## Sorting class Objects"
   ]
  },
  {
   "cell_type": "code",
   "execution_count": 35,
   "metadata": {},
   "outputs": [
    {
     "name": "stdout",
     "output_type": "stream",
     "text": [
      "Name-krishna    Age-35 Sal-55000>\n",
      "Name-stephe     Age-16 Sal-61000>\n",
      "Name-harshita   Age-26 Sal-57000>\n",
      "Name-gaurav     Age-18 Sal-78000>\n"
     ]
    }
   ],
   "source": [
    "class Employee:\n",
    "    def __init__(self, name, age, salary):\n",
    "        self.name = name\n",
    "        self.age = age\n",
    "        self.salary = salary\n",
    "    \n",
    "    def __str__(self):\n",
    "        return \"Name-{:10} Age-{} Sal-{}>\".format(self.name, self.age, self.salary)\n",
    "    def __repr__(self):\n",
    "        return self.__str__()\n",
    "\n",
    "a = [Employee('krishna' , 35, 55000), \n",
    "     Employee('stephe'  , 16, 61000), \n",
    "     Employee('harshita', 26, 57000), \n",
    "     Employee('gaurav'  , 18, 78000)]\n",
    "for e in a:\n",
    "    print(e)"
   ]
  },
  {
   "cell_type": "code",
   "execution_count": 36,
   "metadata": {},
   "outputs": [
    {
     "ename": "TypeError",
     "evalue": "'<' not supported between instances of 'Employee' and 'Employee'",
     "output_type": "error",
     "traceback": [
      "\u001b[1;31m---------------------------------------------------------------------------\u001b[0m",
      "\u001b[1;31mTypeError\u001b[0m                                 Traceback (most recent call last)",
      "\u001b[1;32m<ipython-input-36-b9ac9730907b>\u001b[0m in \u001b[0;36m<module>\u001b[1;34m\u001b[0m\n\u001b[0;32m      4\u001b[0m      Employee('gaurav'  , 18, 78000)]\n\u001b[0;32m      5\u001b[0m \u001b[1;33m\u001b[0m\u001b[0m\n\u001b[1;32m----> 6\u001b[1;33m \u001b[0ma\u001b[0m\u001b[1;33m.\u001b[0m\u001b[0msort\u001b[0m\u001b[1;33m(\u001b[0m\u001b[1;33m)\u001b[0m\u001b[1;33m\u001b[0m\u001b[1;33m\u001b[0m\u001b[0m\n\u001b[0m",
      "\u001b[1;31mTypeError\u001b[0m: '<' not supported between instances of 'Employee' and 'Employee'"
     ]
    }
   ],
   "source": [
    "a = [Employee('krishna' , 35, 55000), \n",
    "     Employee('stephe'  , 16, 61000), \n",
    "     Employee('harshita', 26, 57000), \n",
    "     Employee('gaurav'  , 18, 78000)]\n",
    "\n",
    "a.sort()"
   ]
  },
  {
   "cell_type": "code",
   "execution_count": 37,
   "metadata": {},
   "outputs": [
    {
     "ename": "TypeError",
     "evalue": "'<' not supported between instances of 'Employee' and 'Employee'",
     "output_type": "error",
     "traceback": [
      "\u001b[1;31m---------------------------------------------------------------------------\u001b[0m",
      "\u001b[1;31mTypeError\u001b[0m                                 Traceback (most recent call last)",
      "\u001b[1;32m<ipython-input-37-c30d59ccf2e0>\u001b[0m in \u001b[0;36m<module>\u001b[1;34m\u001b[0m\n\u001b[0;32m      1\u001b[0m \u001b[0me1\u001b[0m \u001b[1;33m=\u001b[0m \u001b[0mEmployee\u001b[0m\u001b[1;33m(\u001b[0m\u001b[1;34m'krishna'\u001b[0m \u001b[1;33m,\u001b[0m \u001b[1;36m35\u001b[0m\u001b[1;33m,\u001b[0m \u001b[1;36m55000\u001b[0m\u001b[1;33m)\u001b[0m\u001b[1;33m\u001b[0m\u001b[1;33m\u001b[0m\u001b[0m\n\u001b[0;32m      2\u001b[0m \u001b[0me2\u001b[0m \u001b[1;33m=\u001b[0m \u001b[0mEmployee\u001b[0m\u001b[1;33m(\u001b[0m\u001b[1;34m'stephe'\u001b[0m  \u001b[1;33m,\u001b[0m \u001b[1;36m16\u001b[0m\u001b[1;33m,\u001b[0m \u001b[1;36m61000\u001b[0m\u001b[1;33m)\u001b[0m\u001b[1;33m\u001b[0m\u001b[1;33m\u001b[0m\u001b[0m\n\u001b[1;32m----> 3\u001b[1;33m \u001b[0me1\u001b[0m \u001b[1;33m<\u001b[0m \u001b[0me2\u001b[0m\u001b[1;33m\u001b[0m\u001b[1;33m\u001b[0m\u001b[0m\n\u001b[0m",
      "\u001b[1;31mTypeError\u001b[0m: '<' not supported between instances of 'Employee' and 'Employee'"
     ]
    }
   ],
   "source": [
    "e1 = Employee('krishna' , 35, 55000)\n",
    "e2 = Employee('stephe'  , 16, 61000)\n",
    "e1 < e2"
   ]
  },
  {
   "cell_type": "code",
   "execution_count": 39,
   "metadata": {},
   "outputs": [
    {
     "name": "stdout",
     "output_type": "stream",
     "text": [
      "True\n"
     ]
    }
   ],
   "source": [
    "class Employee:\n",
    "    def __init__(self, name, age, salary):\n",
    "        self.name = name\n",
    "        self.age = age\n",
    "        self.salary = salary\n",
    "    \n",
    "    def __str__(self):\n",
    "        return \"Name-{:10} Age-{} Sal-{}>\".format(self.name, self.age, self.salary)\n",
    "    def __repr__(self):\n",
    "        return self.__str__()\n",
    "    \n",
    "    def __lt__(self, other):\n",
    "        return self.name < other.name\n",
    "\n",
    "e1 = Employee('krishna' , 35, 55000)\n",
    "e2 = Employee('stephe'  , 16, 61000)\n",
    "print(e1 < e2)"
   ]
  },
  {
   "cell_type": "code",
   "execution_count": 40,
   "metadata": {},
   "outputs": [
    {
     "name": "stdout",
     "output_type": "stream",
     "text": [
      "Name-gaurav     Age-18 Sal-78000>\n",
      "Name-harshita   Age-26 Sal-57000>\n",
      "Name-krishna    Age-35 Sal-55000>\n",
      "Name-stephe     Age-16 Sal-61000>\n"
     ]
    }
   ],
   "source": [
    "a = [Employee('krishna' , 35, 55000), \n",
    "     Employee('stephe'  , 16, 61000), \n",
    "     Employee('harshita', 26, 57000), \n",
    "     Employee('gaurav'  , 18, 78000)]\n",
    "\n",
    "a.sort()\n",
    "for e in a:\n",
    "    print(e)"
   ]
  },
  {
   "cell_type": "code",
   "execution_count": 41,
   "metadata": {},
   "outputs": [
    {
     "name": "stdout",
     "output_type": "stream",
     "text": [
      "Name-krishna    Age-35 Sal-55000>\n",
      "Name-harshita   Age-26 Sal-57000>\n",
      "Name-stephe     Age-16 Sal-61000>\n",
      "Name-gaurav     Age-18 Sal-78000>\n"
     ]
    }
   ],
   "source": [
    "a = [Employee('krishna' , 35, 55000), \n",
    "     Employee('stephe'  , 16, 61000), \n",
    "     Employee('harshita', 26, 57000), \n",
    "     Employee('gaurav'  , 18, 78000)]\n",
    "\n",
    "a.sort(key = lambda e: e.salary)\n",
    "for e in a:\n",
    "    print(e)"
   ]
  },
  {
   "cell_type": "code",
   "execution_count": 46,
   "metadata": {},
   "outputs": [
    {
     "name": "stdout",
     "output_type": "stream",
     "text": [
      "From tuple:  35\n",
      "From Employee Object:  35\n"
     ]
    }
   ],
   "source": [
    "from operator import attrgetter, itemgetter\n",
    "t = ('krishna' , 35, 55000)\n",
    "e = Employee('krishna' , 35, 55000)\n",
    "\n",
    "tf = itemgetter(1)\n",
    "print('From tuple: ', tf(t))\n",
    "\n",
    "ef = attrgetter('age')\n",
    "print('From Employee Object: ', ef(e))"
   ]
  },
  {
   "cell_type": "code",
   "execution_count": 48,
   "metadata": {},
   "outputs": [
    {
     "name": "stdout",
     "output_type": "stream",
     "text": [
      "('stephe', 16, 61000)\n",
      "('gaurav', 18, 78000)\n",
      "('harshita', 26, 57000)\n",
      "('krishna', 35, 55000)\n"
     ]
    }
   ],
   "source": [
    "a = [('krishna' , 35, 55000), \n",
    "     ('stephe'  , 16, 61000), \n",
    "     ('harshita', 26, 57000), \n",
    "     ('gaurav'  , 18, 78000)]\n",
    "\n",
    "a.sort(key = itemgetter(1))\n",
    "for data in a:\n",
    "    print(data)"
   ]
  },
  {
   "cell_type": "code",
   "execution_count": 49,
   "metadata": {},
   "outputs": [
    {
     "name": "stdout",
     "output_type": "stream",
     "text": [
      "Name-stephe     Age-16 Sal-61000>\n",
      "Name-gaurav     Age-18 Sal-78000>\n",
      "Name-harshita   Age-26 Sal-57000>\n",
      "Name-krishna    Age-35 Sal-55000>\n"
     ]
    }
   ],
   "source": [
    "a = [Employee('krishna' , 35, 55000), \n",
    "     Employee('stephe'  , 16, 61000), \n",
    "     Employee('harshita', 26, 57000), \n",
    "     Employee('gaurav'  , 18, 78000)]\n",
    "\n",
    "a.sort(key = attrgetter('age'))\n",
    "for e in a:\n",
    "    print(e)"
   ]
  },
  {
   "cell_type": "code",
   "execution_count": null,
   "metadata": {},
   "outputs": [],
   "source": []
  },
  {
   "cell_type": "code",
   "execution_count": null,
   "metadata": {},
   "outputs": [],
   "source": []
  }
 ],
 "metadata": {
  "kernelspec": {
   "display_name": "Python 3",
   "language": "python",
   "name": "python3"
  },
  "language_info": {
   "codemirror_mode": {
    "name": "ipython",
    "version": 3
   },
   "file_extension": ".py",
   "mimetype": "text/x-python",
   "name": "python",
   "nbconvert_exporter": "python",
   "pygments_lexer": "ipython3",
   "version": "3.7.3"
  }
 },
 "nbformat": 4,
 "nbformat_minor": 2
}
