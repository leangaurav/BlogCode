{
 "cells": [
  {
   "cell_type": "code",
   "execution_count": null,
   "metadata": {},
   "outputs": [],
   "source": [
    "# copyright leangaurav@github"
   ]
  },
  {
   "cell_type": "code",
   "execution_count": 1,
   "metadata": {},
   "outputs": [
    {
     "name": "stdout",
     "output_type": "stream",
     "text": [
      "Wings\n",
      "ChickenWings @100\n",
      "Flying /\\o/\\ \n",
      "Can't!! I'm Dead\n"
     ]
    }
   ],
   "source": [
    "from wings import *\n",
    "w1 = Wings()\n",
    "c1 = ChickenWings()\n",
    "print(w1)\n",
    "print(c1)\n",
    "w1.fly()\n",
    "c1.fly()\n"
   ]
  },
  {
   "cell_type": "code",
   "execution_count": null,
   "metadata": {},
   "outputs": [],
   "source": []
  },
  {
   "cell_type": "code",
   "execution_count": 3,
   "metadata": {},
   "outputs": [
    {
     "name": "stdout",
     "output_type": "stream",
     "text": [
      "<class 'wings.Wings'> <class 'wings.Wings'>\n",
      "<class 'wings.ChickenWings'> <class 'wings.ChickenWings'>\n"
     ]
    }
   ],
   "source": [
    "w = Wings()\n",
    "c = ChickenWings()\n",
    "print(w.__class__, type(w))\n",
    "print(c.__class__, type(c))"
   ]
  },
  {
   "cell_type": "code",
   "execution_count": 4,
   "metadata": {},
   "outputs": [
    {
     "name": "stdout",
     "output_type": "stream",
     "text": [
      "<class 'wings.ChickenWings'> <class 'wings.ChickenWings'>\n",
      "<class 'wings.Wings'> <class 'wings.Wings'>\n"
     ]
    }
   ],
   "source": [
    "w = Wings()\n",
    "c = ChickenWings()\n",
    "c.__class__, w.__class__ = w.__class__, c.__class__\n",
    "print(w.__class__, type(w))\n",
    "print(c.__class__, type(c))"
   ]
  },
  {
   "cell_type": "code",
   "execution_count": null,
   "metadata": {},
   "outputs": [],
   "source": []
  },
  {
   "cell_type": "code",
   "execution_count": 5,
   "metadata": {},
   "outputs": [
    {
     "name": "stdout",
     "output_type": "stream",
     "text": [
      "{}\n",
      "{'price': 100}\n",
      "100\n"
     ]
    },
    {
     "ename": "AttributeError",
     "evalue": "'ChickenWings' object has no attribute 'price'",
     "output_type": "error",
     "traceback": [
      "\u001b[1;31m---------------------------------------------------------------------------\u001b[0m",
      "\u001b[1;31mAttributeError\u001b[0m                            Traceback (most recent call last)",
      "\u001b[1;32m<ipython-input-5-75f3b4b4260a>\u001b[0m in \u001b[0;36m<module>\u001b[1;34m\u001b[0m\n\u001b[0;32m      7\u001b[0m \u001b[0mprint\u001b[0m\u001b[1;33m(\u001b[0m\u001b[0mc\u001b[0m\u001b[1;33m.\u001b[0m\u001b[0m__dict__\u001b[0m\u001b[1;33m)\u001b[0m\u001b[1;33m\u001b[0m\u001b[1;33m\u001b[0m\u001b[0m\n\u001b[0;32m      8\u001b[0m \u001b[0mprint\u001b[0m\u001b[1;33m(\u001b[0m\u001b[0mc\u001b[0m\u001b[1;33m.\u001b[0m\u001b[0mprice\u001b[0m\u001b[1;33m)\u001b[0m\u001b[1;33m\u001b[0m\u001b[1;33m\u001b[0m\u001b[0m\n\u001b[1;32m----> 9\u001b[1;33m \u001b[0mprint\u001b[0m\u001b[1;33m(\u001b[0m\u001b[0mw\u001b[0m\u001b[1;33m.\u001b[0m\u001b[0mprice\u001b[0m\u001b[1;33m)\u001b[0m\u001b[1;33m\u001b[0m\u001b[1;33m\u001b[0m\u001b[0m\n\u001b[0m",
      "\u001b[1;31mAttributeError\u001b[0m: 'ChickenWings' object has no attribute 'price'"
     ]
    }
   ],
   "source": [
    "from wings import *\n",
    "w = Wings()\n",
    "c = ChickenWings()\n",
    "c.__class__, w.__class__ = w.__class__, c.__class__\n",
    "\n",
    "print(w.__dict__)\n",
    "print(c.__dict__)\n",
    "print(c.price)\n",
    "print(w.price)"
   ]
  },
  {
   "cell_type": "code",
   "execution_count": null,
   "metadata": {},
   "outputs": [],
   "source": []
  },
  {
   "cell_type": "code",
   "execution_count": 6,
   "metadata": {},
   "outputs": [
    {
     "name": "stdout",
     "output_type": "stream",
     "text": [
      "Can't!! I'm Dead\n",
      "Flying /\\o/\\ \n"
     ]
    }
   ],
   "source": [
    "from wings import *\n",
    "w = Wings()\n",
    "c = ChickenWings()\n",
    "c.__class__, w.__class__ = w.__class__, c.__class__\n",
    "\n",
    "w.fly()\n",
    "c.fly()"
   ]
  }
 ],
 "metadata": {
  "kernelspec": {
   "display_name": "Python 3",
   "language": "python",
   "name": "python3"
  },
  "language_info": {
   "codemirror_mode": {
    "name": "ipython",
    "version": 3
   },
   "file_extension": ".py",
   "mimetype": "text/x-python",
   "name": "python",
   "nbconvert_exporter": "python",
   "pygments_lexer": "ipython3",
   "version": "3.7.3"
  }
 },
 "nbformat": 4,
 "nbformat_minor": 2
}
