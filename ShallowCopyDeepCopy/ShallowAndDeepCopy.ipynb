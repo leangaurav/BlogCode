{
 "cells": [
  {
   "cell_type": "code",
   "execution_count": 1,
   "metadata": {},
   "outputs": [
    {
     "name": "stdout",
     "output_type": "stream",
     "text": [
      "1477520961416 1477520961416\n"
     ]
    }
   ],
   "source": [
    "x = [1,2,3]\n",
    "y = x\n",
    "print(id(x), id(y))"
   ]
  },
  {
   "cell_type": "code",
   "execution_count": 2,
   "metadata": {},
   "outputs": [
    {
     "name": "stdout",
     "output_type": "stream",
     "text": [
      "[10, 2, 3] [10, 2, 3]\n"
     ]
    }
   ],
   "source": [
    "x = [1,2,3]\n",
    "y = x\n",
    "x[0] = 10\n",
    "print(x, y)"
   ]
  },
  {
   "cell_type": "code",
   "execution_count": 3,
   "metadata": {},
   "outputs": [
    {
     "name": "stdout",
     "output_type": "stream",
     "text": [
      "[10, 2, 3]\n",
      "[1, 2, 3]\n",
      "[1, 2, 3]\n",
      "[1, 2, 3]\n"
     ]
    }
   ],
   "source": [
    "l1 = [1,2,3]\n",
    "l2 = list(l1)  # 1. call list constructor\n",
    "l3 = l1[:]     # 2. copy all elements via slicing\n",
    "l4 = l1.copy() # 3. call list copy function\n",
    "\n",
    "l1[0] = 10\n",
    "print(l1)\n",
    "print(l2)\n",
    "print(l3)\n",
    "print(l4)"
   ]
  },
  {
   "cell_type": "code",
   "execution_count": 4,
   "metadata": {},
   "outputs": [
    {
     "name": "stdout",
     "output_type": "stream",
     "text": [
      "[[10, 20, 30, 40], 1, 2, 3, 4]\n",
      "[[10, 20, 30, 40], 1, 2, 3]\n"
     ]
    }
   ],
   "source": [
    "l1 = [[10,20,30], 1, 2, 3]# a list with another list at index 0\n",
    "l2 = list(l1)             # create a copy\n",
    "\n",
    "l1.append(4)              # append to list l1\n",
    "l1[0].append(40)          # modify the inner list of l1\n",
    "\n",
    "print(l1)\n",
    "print(l2)"
   ]
  },
  {
   "cell_type": "code",
   "execution_count": 5,
   "metadata": {},
   "outputs": [
    {
     "name": "stdout",
     "output_type": "stream",
     "text": [
      "1477520960072\n",
      "1477520960072\n"
     ]
    }
   ],
   "source": [
    "l1 = [[10,20,30], 1, 2, 3]# a list with another list at index 0\n",
    "l2 = list(l1)             # create a copy\n",
    "\n",
    "l1.append(4)              # append to list l1\n",
    "l1[0].append(40)          # modify the inner list of l1\n",
    "\n",
    "print( id(l1[0]) )\n",
    "print( id(l2[0]) )"
   ]
  },
  {
   "cell_type": "code",
   "execution_count": 7,
   "metadata": {},
   "outputs": [
    {
     "name": "stdout",
     "output_type": "stream",
     "text": [
      "[[10, 20, 30, 40], 1, 2, 3, 4]\n",
      "[[10, 20, 30], 1, 2, 3]\n"
     ]
    }
   ],
   "source": [
    "import copy               # this is the module to use\n",
    "l1 = [[10,20,30], 1, 2, 3]\n",
    "l2 = copy.deepcopy(l1)    # create a copy using the deepcopy function from copy\n",
    "\n",
    "l1.append(4)              # append to list l1\n",
    "l1[0].append(40)          # modify the inner list of l1\n",
    "\n",
    "print( l1 )\n",
    "print( l2 )"
   ]
  },
  {
   "cell_type": "markdown",
   "metadata": {},
   "source": [
    "### Practice"
   ]
  },
  {
   "cell_type": "code",
   "execution_count": null,
   "metadata": {},
   "outputs": [],
   "source": [
    "l1 = [ 1,2,3 ]\n",
    "l2 = [ l1, [10,20,30] ]\n",
    "l3 = [ l1, [10,20,30] ]\n",
    "\n",
    "l1.append(4)\n",
    "l2[1].append(40)\n",
    "\n",
    "print(l1)\n",
    "print(l2)\n",
    "print(l3)"
   ]
  },
  {
   "cell_type": "code",
   "execution_count": null,
   "metadata": {},
   "outputs": [],
   "source": [
    "l1 = [ 1,2,3 ]\n",
    "l2 = [ l1, [10,20,30] ]\n",
    "l3 = [ list(l1), [10,20,30] ]\n",
    "\n",
    "l1.append(4)\n",
    "l2[1].append(40)\n",
    "\n",
    "print(l1)\n",
    "print(l2)\n",
    "print(l3)"
   ]
  },
  {
   "cell_type": "code",
   "execution_count": null,
   "metadata": {},
   "outputs": [],
   "source": []
  }
 ],
 "metadata": {
  "kernelspec": {
   "display_name": "Python 3",
   "language": "python",
   "name": "python3"
  },
  "language_info": {
   "codemirror_mode": {
    "name": "ipython",
    "version": 3
   },
   "file_extension": ".py",
   "mimetype": "text/x-python",
   "name": "python",
   "nbconvert_exporter": "python",
   "pygments_lexer": "ipython3",
   "version": "3.7.3"
  }
 },
 "nbformat": 4,
 "nbformat_minor": 2
}
