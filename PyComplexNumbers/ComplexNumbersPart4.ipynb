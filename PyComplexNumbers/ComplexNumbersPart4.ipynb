{
 "cells": [
  {
   "cell_type": "code",
   "execution_count": 18,
   "metadata": {},
   "outputs": [],
   "source": [
    "class Complex:\n",
    "    \n",
    "    def __init__(self, re = 0, im = 0):\n",
    "        self.re = re\n",
    "        self.im = im\n",
    "        \n",
    "    def __str__(self):\n",
    "        return \"{} {} {}i\".format(self.re, '+' if self.im >= 0 else '-', abs(self.im))"
   ]
  },
  {
   "cell_type": "code",
   "execution_count": 19,
   "metadata": {},
   "outputs": [
    {
     "name": "stdout",
     "output_type": "stream",
     "text": [
      "10 + 20i\n",
      "1 - 2i\n",
      "1 + 0i\n",
      "0 + 0i\n"
     ]
    }
   ],
   "source": [
    "c1 = Complex(10,20)\n",
    "c2 = Complex(1, -2)\n",
    "c3 = Complex(1)\n",
    "c4 = Complex()\n",
    "print(c1)\n",
    "print(c2)\n",
    "print(c3)\n",
    "print(c4)"
   ]
  },
  {
   "cell_type": "code",
   "execution_count": 20,
   "metadata": {},
   "outputs": [
    {
     "name": "stdout",
     "output_type": "stream",
     "text": [
      "11 + 18i\n",
      "9 + 22i\n"
     ]
    }
   ],
   "source": [
    "class Complex:\n",
    "    \n",
    "    def __init__(self, re = 0, im = 0):\n",
    "        self.re = re\n",
    "        self.im = im\n",
    "        \n",
    "    def __str__(self):\n",
    "        return \"{} {} {}i\".format(self.re, '+' if self.im >= 0 else '-', abs(self.im))\n",
    "    \n",
    "    def __add__(self, other):\n",
    "        return Complex(self.re + other.re, self.im + other.im)\n",
    "    \n",
    "    def __sub__(self, other):\n",
    "        return Complex(self.re - other.re, self.im - other.im)\n",
    "    \n",
    "c1 = Complex(10,20)\n",
    "c2 = Complex(1, -2)\n",
    "print(c1 + c2)\n",
    "print(c1 - c2)"
   ]
  },
  {
   "cell_type": "code",
   "execution_count": 21,
   "metadata": {},
   "outputs": [
    {
     "name": "stdout",
     "output_type": "stream",
     "text": [
      "-10 - 20i\n",
      "10 - 20i\n"
     ]
    }
   ],
   "source": [
    "class Complex:\n",
    "    \n",
    "    def __init__(self, re = 0, im = 0):\n",
    "        self.re = re\n",
    "        self.im = im\n",
    "        \n",
    "    def __str__(self):\n",
    "        return \"{} {} {}i\".format(self.re, '+' if self.im >= 0 else '-', abs(self.im))\n",
    "    \n",
    "    def __add__(self, other):\n",
    "        return Complex(self.re + other.re, self.im + other.im)\n",
    "    \n",
    "    def __sub__(self, other):\n",
    "        return Complex(self.re - other.re, self.im - other.im)\n",
    "    \n",
    "    def __neg__(self):\n",
    "        return Complex(-self.re, -self.im)\n",
    "    \n",
    "    def conjugate(self):\n",
    "        return Complex(self.re, -self.im)\n",
    "    \n",
    "c1 = Complex(10,20)\n",
    "print(-c1)\n",
    "print(c1.conjugate())"
   ]
  },
  {
   "cell_type": "code",
   "execution_count": 22,
   "metadata": {},
   "outputs": [
    {
     "name": "stdout",
     "output_type": "stream",
     "text": [
      "50 + 0i\n",
      "-6.0 + 8.0i\n"
     ]
    }
   ],
   "source": [
    "class Complex:\n",
    "    \n",
    "    def __init__(self, re = 0, im = 0):\n",
    "        self.re = re\n",
    "        self.im = im\n",
    "        \n",
    "    def __str__(self):\n",
    "        return \"{} {} {}i\".format(self.re, '+' if self.im >= 0 else '-', abs(self.im))\n",
    "    \n",
    "    def __add__(self, other):\n",
    "        return Complex(self.re + other.re, self.im + other.im)\n",
    "    \n",
    "    def __sub__(self, other):\n",
    "        return Complex(self.re - other.re, self.im - other.im)\n",
    "    \n",
    "    def __neg__(self):\n",
    "        return Complex(-self.re, -self.im)\n",
    "    \n",
    "    def conjugate(self):\n",
    "        return Complex(self.re, -self.im)\n",
    "    \n",
    "    def __mul__(self, other):\n",
    "        re = self.re * other.re - self.im * other.im\n",
    "        im = self.im * other.re + self.re * other.im\n",
    "        return Complex(re, im)\n",
    "    \n",
    "    def __truediv__(self, other):\n",
    "        conj = other.conjugate()\n",
    "        \n",
    "        den = other * conj\n",
    "        den = den.re\n",
    "        \n",
    "        num = self * conj\n",
    "        return Complex(num.re/den, num.im/den)\n",
    "    \n",
    "c1 = Complex(10,20)\n",
    "c2 = Complex(1,-2)\n",
    "print(c1*c2)\n",
    "print(c1/c2)"
   ]
  }
 ],
 "metadata": {
  "kernelspec": {
   "display_name": "Python 3",
   "language": "python",
   "name": "python3"
  },
  "language_info": {
   "codemirror_mode": {
    "name": "ipython",
    "version": 3
   },
   "file_extension": ".py",
   "mimetype": "text/x-python",
   "name": "python",
   "nbconvert_exporter": "python",
   "pygments_lexer": "ipython3",
   "version": "3.7.3"
  }
 },
 "nbformat": 4,
 "nbformat_minor": 2
}
