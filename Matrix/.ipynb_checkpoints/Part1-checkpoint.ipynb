{
 "cells": [
  {
   "cell_type": "code",
   "execution_count": 1,
   "metadata": {},
   "outputs": [],
   "source": [
    "A = [ 1 ,2 ,3 ,4 ] # list\n",
    "A = ( 1 ,2 ,3 ,4 ) # tuple"
   ]
  },
  {
   "cell_type": "code",
   "execution_count": 2,
   "metadata": {},
   "outputs": [
    {
     "name": "stdout",
     "output_type": "stream",
     "text": [
      "1\n",
      "2\n",
      "3\n",
      "4\n"
     ]
    }
   ],
   "source": [
    "A=[ 1 ,2 ,3 ,4 ]\n",
    "print(A[0])\n",
    "print(A[1])\n",
    "print(A[2])\n",
    "print(A[3])"
   ]
  },
  {
   "cell_type": "code",
   "execution_count": 3,
   "metadata": {},
   "outputs": [
    {
     "name": "stdout",
     "output_type": "stream",
     "text": [
      "1\n",
      "2\n",
      "3\n",
      "4\n"
     ]
    }
   ],
   "source": [
    "A = [ 1 ,2 ,3 ,4 ]\n",
    "for i in range( len(A) ): # uses indexes\n",
    "  print(A[i])"
   ]
  },
  {
   "cell_type": "code",
   "execution_count": 4,
   "metadata": {},
   "outputs": [
    {
     "name": "stdout",
     "output_type": "stream",
     "text": [
      "1\n",
      "2\n",
      "3\n",
      "4\n"
     ]
    }
   ],
   "source": [
    "A=[ 1 ,2 ,3 ,4 ]\n",
    "for i in A: # allows to accesses elements directly\n",
    "  print(i)  # here i is not index, but data itself"
   ]
  },
  {
   "cell_type": "markdown",
   "metadata": {},
   "source": [
    "## Exercise"
   ]
  },
  {
   "cell_type": "code",
   "execution_count": 2,
   "metadata": {},
   "outputs": [],
   "source": [
    "### WAP to print the numbers of below list in reverse order (both using indexes and without that)\n",
    "a = [10,20,30,40]"
   ]
  },
  {
   "cell_type": "code",
   "execution_count": null,
   "metadata": {},
   "outputs": [],
   "source": []
  },
  {
   "cell_type": "code",
   "execution_count": 3,
   "metadata": {},
   "outputs": [],
   "source": [
    "M = [ [10, 20, 30],\n",
    "      [-5, 15, 40] ]"
   ]
  },
  {
   "cell_type": "code",
   "execution_count": 4,
   "metadata": {},
   "outputs": [
    {
     "name": "stdout",
     "output_type": "stream",
     "text": [
      "10\n",
      "40\n"
     ]
    }
   ],
   "source": [
    "M = [ [10, 20, 30],\n",
    "      [-5, 15, 40] ]\n",
    "print( M[0][0] )\n",
    "print( M[1][2] )"
   ]
  },
  {
   "cell_type": "code",
   "execution_count": 5,
   "metadata": {},
   "outputs": [
    {
     "name": "stdout",
     "output_type": "stream",
     "text": [
      "Rows:  2\n",
      "Columns:  3\n",
      "Matrix Size : 2 x 3\n"
     ]
    }
   ],
   "source": [
    "M = [ [10, 20, 30] ,\n",
    "      [-5, 15, 40] ]\n",
    "print( \"Rows: \", len(M) )\n",
    "print( \"Columns: \", len(M[0]) ) # length of first column\n",
    "print( \"Matrix Size : %d x %d\" % ( len(M), len(M[0]) ) )"
   ]
  },
  {
   "cell_type": "code",
   "execution_count": 6,
   "metadata": {},
   "outputs": [
    {
     "name": "stdout",
     "output_type": "stream",
     "text": [
      "[-5, 15, 40]\n"
     ]
    }
   ],
   "source": [
    "M = [ [10, 20, 30] ,\n",
    "      [-5, 15, 40] ]\n",
    "print( M[1] )"
   ]
  },
  {
   "cell_type": "code",
   "execution_count": 8,
   "metadata": {},
   "outputs": [
    {
     "name": "stdout",
     "output_type": "stream",
     "text": [
      "-5 15 40 \n",
      "\n",
      "-5 15 40 "
     ]
    }
   ],
   "source": [
    "M = [ [10, 20, 30] ,\n",
    "      [-5, 15, 40] ]\n",
    "for i in range(len(M[1])):\n",
    "  print( M[1][i], end = ' ' ) # keep row number fixed\n",
    "\n",
    "# OR\n",
    "print('\\n')\n",
    "for i in M[1]:\n",
    "  print( i, end= ' ' )"
   ]
  },
  {
   "cell_type": "code",
   "execution_count": 9,
   "metadata": {},
   "outputs": [
    {
     "name": "stdout",
     "output_type": "stream",
     "text": [
      "10\n",
      "20\n",
      "30\n"
     ]
    }
   ],
   "source": [
    "M = [ [10, 20, 30] ,\n",
    "      [-5, 15, 40] ]\n",
    "for i in range( len(M[0]) ):\n",
    "  print( M[0][i] )"
   ]
  },
  {
   "cell_type": "markdown",
   "metadata": {},
   "source": [
    "## Exercise"
   ]
  },
  {
   "cell_type": "code",
   "execution_count": null,
   "metadata": {},
   "outputs": [],
   "source": [
    "# find result of\n",
    "M = [ [10, 20, 30] ,\n",
    "      [-5, 15, 40] ]\n",
    "print(M[0][:])"
   ]
  },
  {
   "cell_type": "code",
   "execution_count": null,
   "metadata": {},
   "outputs": [],
   "source": []
  },
  {
   "cell_type": "code",
   "execution_count": 11,
   "metadata": {},
   "outputs": [
    {
     "name": "stdout",
     "output_type": "stream",
     "text": [
      "10\n",
      "20\n",
      "30\n",
      "-5\n",
      "15\n",
      "40\n"
     ]
    }
   ],
   "source": [
    "M = [ [10, 20, 30],\n",
    "      [-5, 15, 40] ]\n",
    "for i in range( len(M) ): # generates row index 0–1\n",
    "  for j in range( len(M[i]) ): # generates column index 0–2\n",
    "    print( M[i][j] )"
   ]
  },
  {
   "cell_type": "code",
   "execution_count": 12,
   "metadata": {},
   "outputs": [
    {
     "name": "stdout",
     "output_type": "stream",
     "text": [
      "10 20 30 \n",
      "-5 15 40 \n"
     ]
    }
   ],
   "source": [
    "M = [ [10, 20, 30] ,\n",
    "      [-5, 15, 40] ]\n",
    "for i in range( len(M) ):\n",
    "  for j in range( len(M[i]) ):\n",
    "    print( M[i][j] , end = ' ') # instead of newline, print space\n",
    "  print() # change line after a row"
   ]
  },
  {
   "cell_type": "code",
   "execution_count": 13,
   "metadata": {},
   "outputs": [
    {
     "name": "stdout",
     "output_type": "stream",
     "text": [
      "(0, 0) (0, 1) (0, 2) \n",
      "(1, 0) (1, 1) (1, 2) \n"
     ]
    }
   ],
   "source": [
    "M = [ [10, 20, 30] ,\n",
    "      [-5, 15, 40] ]\n",
    "for i in range( len(M) ):\n",
    "  for j in range( len(M[i]) ):\n",
    "    print( (i,j) , end = ' ') # print indexes\n",
    "  print()"
   ]
  },
  {
   "cell_type": "code",
   "execution_count": 15,
   "metadata": {},
   "outputs": [
    {
     "name": "stdout",
     "output_type": "stream",
     "text": [
      "Enter Rows: 3\n",
      "Enter Columns: 2\n",
      "Enter element (0,0):10\n",
      "Enter element (0,1):20\n",
      "Enter element (1,0):44\n",
      "Enter element (1,1):55\n",
      "Enter element (2,0):77\n",
      "Enter element (2,1):88\n",
      "10 20 \n",
      "44 55 \n",
      "77 88 \n"
     ]
    }
   ],
   "source": [
    "# input rows and columns\n",
    "m = int(input(\"Enter Rows: \"))\n",
    "n = int(input(\"Enter Columns: \"))\n",
    "\n",
    "# input matrix data\n",
    "mat = []\n",
    "for i in range(m):\n",
    "  row = []\n",
    "  for j in range(n):\n",
    "    num = input(\"Enter element (%d,%d):\" % (i,j) )\n",
    "    row.append(num)\n",
    "  mat.append(row)\n",
    "\n",
    "# print matrix on screen\n",
    "for i in range( len(mat) ):\n",
    "  for j in range( len(mat[i]) ):\n",
    "    print( mat[i][j] , end = ' ')\n",
    "  print()"
   ]
  },
  {
   "cell_type": "code",
   "execution_count": 16,
   "metadata": {},
   "outputs": [],
   "source": [
    "def print_matrix(mat):\n",
    "    if not mat: # if matrix is empty or None print []\n",
    "        print(\"[]\")\n",
    "    else:\n",
    "        for i in range( len(mat) ):\n",
    "            for j in range( len(mat[i]) ):\n",
    "                print( mat[i][j] , end = ' ')\n",
    "            print()"
   ]
  },
  {
   "cell_type": "code",
   "execution_count": 17,
   "metadata": {},
   "outputs": [],
   "source": [
    "def input_matrix(m, n):\n",
    "    mat = []\n",
    "    for i in range(m):\n",
    "        row = []\n",
    "        for j in range(n):\n",
    "           num = input(\"Enter element (%d,%d):\" % (i,j) )\n",
    "           row.append(num)\n",
    "        mat.append(row)\n",
    "    return mat"
   ]
  },
  {
   "cell_type": "code",
   "execution_count": null,
   "metadata": {},
   "outputs": [],
   "source": [
    "import matrix\n",
    "\n",
    "# input rows and columns\n",
    "m = int(input(\"Enter Rows: \"))\n",
    "n = int(input(\"Enter Columns: \"))\n",
    "\n",
    "mat = matrix.input_matrix(m, n)\n",
    "matrix.print_matrix(mat)"
   ]
  },
  {
   "cell_type": "code",
   "execution_count": 2,
   "metadata": {},
   "outputs": [],
   "source": [
    "def zeros(m,n):\n",
    "    mat = []# TODO: Try putting in some dimension check for m and n.\n",
    "    for i in range(m):\n",
    "        row = []\n",
    "        for j in range(n):\n",
    "            row.append(0)\n",
    "        mat.append(row)\n",
    "    return mat"
   ]
  },
  {
   "cell_type": "code",
   "execution_count": 3,
   "metadata": {},
   "outputs": [],
   "source": [
    "def zeros(m,n):\n",
    "    mat = [ [0 for j in range(n)] for i in range(m) ]\n",
    "    return mat\n",
    "\n",
    "def ones(m,n):\n",
    "    mat = [ [1 for j in range(n)] for i in range(m) ]\n",
    "    return mat"
   ]
  },
  {
   "cell_type": "code",
   "execution_count": 5,
   "metadata": {},
   "outputs": [],
   "source": [
    "def copy(mat):\n",
    "    return [ [data for data in row] for row in mat]"
   ]
  },
  {
   "cell_type": "code",
   "execution_count": 6,
   "metadata": {},
   "outputs": [],
   "source": [
    "R = [ [10, 20, 30, 40] ]"
   ]
  },
  {
   "cell_type": "code",
   "execution_count": 7,
   "metadata": {},
   "outputs": [],
   "source": [
    "C = [[10],\n",
    "     [20],\n",
    "     [30],\n",
    "     [40]]"
   ]
  },
  {
   "cell_type": "code",
   "execution_count": 8,
   "metadata": {},
   "outputs": [
    {
     "name": "stdout",
     "output_type": "stream",
     "text": [
      "0 0 0 0 0 \n",
      "\n",
      "1 \n",
      "1 \n",
      "1 \n",
      "1 \n",
      "1 \n"
     ]
    }
   ],
   "source": [
    "# write this code in another script or in jupyter notebook.\n",
    "# Make sure you have your matrix.py in same folder\n",
    "import matrix\n",
    "\n",
    "rv = matrix.zeros(1,5) #Row vector with 5 elements\n",
    "cv = matrix.ones(5,1) #Columns Vector with 5 elements\n",
    "\n",
    "matrix.print_matrix(rv)\n",
    "\n",
    "print()\n",
    "matrix.print_matrix(cv)"
   ]
  },
  {
   "cell_type": "code",
   "execution_count": 9,
   "metadata": {},
   "outputs": [
    {
     "name": "stdout",
     "output_type": "stream",
     "text": [
      "┌\n",
      "│\n",
      "└\n"
     ]
    }
   ],
   "source": [
    "print('\\u250c')\n",
    "print('\\u2502')\n",
    "print('\\u2514')\n",
    "# See other characters at\n",
    "# https://en.wikipedia.org/wiki/Box-drawing_character"
   ]
  },
  {
   "cell_type": "code",
   "execution_count": null,
   "metadata": {},
   "outputs": [],
   "source": []
  }
 ],
 "metadata": {
  "kernelspec": {
   "display_name": "Python 3",
   "language": "python",
   "name": "python3"
  },
  "language_info": {
   "codemirror_mode": {
    "name": "ipython",
    "version": 3
   },
   "file_extension": ".py",
   "mimetype": "text/x-python",
   "name": "python",
   "nbconvert_exporter": "python",
   "pygments_lexer": "ipython3",
   "version": "3.7.3"
  }
 },
 "nbformat": 4,
 "nbformat_minor": 2
}
