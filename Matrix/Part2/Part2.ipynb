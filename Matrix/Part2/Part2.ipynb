{
 "cells": [
  {
   "cell_type": "code",
   "execution_count": 3,
   "metadata": {},
   "outputs": [],
   "source": [
    "import matrix"
   ]
  },
  {
   "cell_type": "code",
   "execution_count": 7,
   "metadata": {},
   "outputs": [
    {
     "name": "stdout",
     "output_type": "stream",
     "text": [
      "1 2 3 4 \n",
      "5 6 7 8 \n",
      "9 10 11 12 \n"
     ]
    }
   ],
   "source": [
    "import matrix\n",
    "m1 = matrix.create_linear_matrix(3,4)\n",
    "matrix.print_matrix(m1)"
   ]
  },
  {
   "cell_type": "code",
   "execution_count": 10,
   "metadata": {},
   "outputs": [
    {
     "name": "stdout",
     "output_type": "stream",
     "text": [
      "1 2 3 \n",
      "4 5 6 \n",
      "7 8 9 \n",
      "\n",
      "1\n",
      "5\n",
      "9\n"
     ]
    }
   ],
   "source": [
    "#print diagonals\n",
    "mat = matrix.create_linear_matrix(3,3)\n",
    "\n",
    "matrix.print_matrix(mat)\n",
    "\n",
    "print()\n",
    "for i in range(len(mat)):\n",
    "     for j in range(len(mat[i])):\n",
    "        if i == j:\n",
    "            print(mat[i][j])"
   ]
  },
  {
   "cell_type": "code",
   "execution_count": 16,
   "metadata": {},
   "outputs": [
    {
     "name": "stdout",
     "output_type": "stream",
     "text": [
      "1 2 3 \n",
      "4 5 6 \n",
      "7 8 9 \n",
      "\n",
      "15\n",
      "15\n"
     ]
    }
   ],
   "source": [
    "import importlib # reimport changed matrix.py\n",
    "importlib.reload(matrix)\n",
    "\n",
    "mat = matrix.create_linear_matrix(3,3)\n",
    "matrix.print_matrix(mat)\n",
    "\n",
    "print()\n",
    "print(matrix.main_diagonal_sum(mat))\n",
    "print(matrix.off_diagonal_sum(mat))"
   ]
  },
  {
   "cell_type": "code",
   "execution_count": null,
   "metadata": {},
   "outputs": [],
   "source": [
    "import matrix\n",
    "\n",
    "mat = matrix.create_linear_matrix(3,3)\n",
    "\n",
    "for i in range(len(mat)):\n",
    "    for j in range(len(mat)): # both dimension are same so using len(mat)\n",
    "        if <put condition here>:\n",
    "            print(\"%-4d\" % (mat[i][j]), end = '' ) # uses string formatting\n",
    "        else:\n",
    "            print(\"    \", end = '')# previous print used 4 char wide\n",
    "    print()"
   ]
  },
  {
   "cell_type": "code",
   "execution_count": 19,
   "metadata": {},
   "outputs": [
    {
     "name": "stdout",
     "output_type": "stream",
     "text": [
      "1 2 3 \n",
      "4 5 6 \n",
      "7 8 9 \n",
      "\n",
      "11 12 13 \n",
      "14 15 16 \n",
      "17 18 19 \n",
      "\n",
      "101 102 103 \n",
      "104 105 106 \n",
      "107 108 109 \n"
     ]
    }
   ],
   "source": [
    "import importlib # reimport changed matrix.py\n",
    "importlib.reload(matrix)\n",
    "\n",
    "mat = matrix.create_linear_matrix(3,3)\n",
    "\n",
    "matrix.print_matrix(mat)\n",
    "\n",
    "mat_new = matrix.add_scalar(mat, 10) # use default option to create new matrix\n",
    "print()\n",
    "matrix.print_matrix(mat_new)\n",
    "\n",
    "matrix.add_scalar(mat, 100, inplace = True)\n",
    "print()\n",
    "matrix.print_matrix(mat)"
   ]
  },
  {
   "cell_type": "code",
   "execution_count": 24,
   "metadata": {},
   "outputs": [
    {
     "name": "stdout",
     "output_type": "stream",
     "text": [
      "True\n",
      "False\n",
      "False\n",
      "True\n"
     ]
    }
   ],
   "source": [
    "# equals\n",
    "importlib.reload(matrix)\n",
    "\n",
    "mat1 = matrix.create_linear_matrix(4,4)\n",
    "\n",
    "mat2 = mat1 # same matrix\n",
    "\n",
    "mat3 = matrix.create_linear_matrix(3,3) # different dimension\n",
    "\n",
    "mat4 = matrix.create_linear_matrix(4,4) # we will change on element\n",
    "mat4[0][0] = 100\n",
    "\n",
    "mat5 = matrix.create_linear_matrix(4,4) # different matrix same data\n",
    "\n",
    "print(matrix.equals(mat1, mat2))\n",
    "print(matrix.equals(mat1, mat3))\n",
    "print(matrix.equals(mat1, mat4))\n",
    "print(matrix.equals(mat1, mat5))"
   ]
  },
  {
   "cell_type": "code",
   "execution_count": 29,
   "metadata": {},
   "outputs": [
    {
     "name": "stdout",
     "output_type": "stream",
     "text": [
      "2 3 4 \n",
      "5 6 7 \n",
      "8 9 10 \n",
      "\n",
      "[]\n"
     ]
    }
   ],
   "source": [
    "# add and sub\n",
    "importlib.reload(matrix)\n",
    "\n",
    "mat1 = matrix.create_linear_matrix(3,3)\n",
    "\n",
    "mat2 = matrix.ones(3,3) # same dimension\n",
    "\n",
    "mat3 = matrix.create_linear_matrix(2,2) # different dimension\n",
    "\n",
    "res1 = matrix.add(mat1, mat2)\n",
    "res2 = matrix.add(mat1, mat3)\n",
    "\n",
    "matrix.print_matrix(res1)\n",
    "print()\n",
    "matrix.print_matrix(res2)"
   ]
  },
  {
   "cell_type": "code",
   "execution_count": 30,
   "metadata": {},
   "outputs": [
    {
     "name": "stdout",
     "output_type": "stream",
     "text": [
      "1 2 3 \n",
      "4 5 6 \n",
      "\n",
      "14\n",
      "25\n",
      "36\n"
     ]
    }
   ],
   "source": [
    "# print transpose\n",
    "import matrix\n",
    "\n",
    "mat = matrix.create_linear_matrix(2,3)\n",
    "\n",
    "matrix.print_matrix(mat)\n",
    "print()\n",
    "\n",
    "for j in range(len(mat[0])): # iterate till columns first using j\n",
    "    for i in range(len(mat)):\n",
    "        print(mat[i][j], end = '')\n",
    "    print()"
   ]
  },
  {
   "cell_type": "code",
   "execution_count": 32,
   "metadata": {},
   "outputs": [
    {
     "name": "stdout",
     "output_type": "stream",
     "text": [
      "1 2 3 \n",
      "4 5 6 \n",
      "\n",
      "1 4 \n",
      "2 5 \n",
      "3 6 \n"
     ]
    }
   ],
   "source": [
    "# transpose function\n",
    "importlib.reload(matrix)\n",
    "\n",
    "mat = matrix.create_linear_matrix(2,3) # create matrix\n",
    "trans_mat = matrix.transpose(mat) # create transpose\n",
    "\n",
    "matrix.print_matrix(mat) # print original matrix\n",
    "\n",
    "print()\n",
    "matrix.print_matrix(trans_mat) # print transpose matrix"
   ]
  },
  {
   "cell_type": "code",
   "execution_count": 38,
   "metadata": {},
   "outputs": [
    {
     "name": "stdout",
     "output_type": "stream",
     "text": [
      "Mat3 Before:\n",
      "-2 -1 0 \n",
      "1 2 3 \n",
      "4 5 6 \n",
      "\n",
      "Mat4:\n",
      "2 1 0 \n",
      "-1 -2 -3 \n",
      "-4 -5 -6 \n",
      "\n",
      "Mat3 with inplace True:\n",
      "2 1 0 \n",
      "-1 -2 -3 \n",
      "-4 -5 -6 \n"
     ]
    }
   ],
   "source": [
    "# negative\n",
    "importlib.reload(matrix)\n",
    "\n",
    "mat1 = matrix.create_linear_matrix(3,3)\n",
    "\n",
    "mat2 = matrix.add_scalar(matrix.ones(3,3), 2)\n",
    "\n",
    "mat3 = matrix.sub(mat1, mat2)\n",
    "\n",
    "print(\"Mat3 Before:\")\n",
    "matrix.print_matrix(mat3)\n",
    "\n",
    "mat4 = matrix.neg(mat3)\n",
    "print(\"\\nMat4:\")\n",
    "matrix.print_matrix(mat4)\n",
    "\n",
    "print(\"\\nMat3 with inplace True:\")\n",
    "matrix.neg(mat3, inplace = True)\n",
    "matrix.print_matrix(mat3)"
   ]
  }
 ],
 "metadata": {
  "kernelspec": {
   "display_name": "Python 3",
   "language": "python",
   "name": "python3"
  },
  "language_info": {
   "codemirror_mode": {
    "name": "ipython",
    "version": 3
   },
   "file_extension": ".py",
   "mimetype": "text/x-python",
   "name": "python",
   "nbconvert_exporter": "python",
   "pygments_lexer": "ipython3",
   "version": "3.7.3"
  }
 },
 "nbformat": 4,
 "nbformat_minor": 2
}
